{
 "cells": [
  {
   "cell_type": "code",
   "execution_count": 1,
   "metadata": {},
   "outputs": [],
   "source": [
    "import nest_asyncio\n",
    "\n",
    "nest_asyncio.apply()"
   ]
  },
  {
   "cell_type": "code",
   "execution_count": 2,
   "metadata": {},
   "outputs": [
    {
     "name": "stderr",
     "output_type": "stream",
     "text": [
      "/Users/alina.ghani/VS_project/hotel_data/ContentGen/ENV/lib/python3.12/site-packages/tqdm/auto.py:21: TqdmWarning: IProgress not found. Please update jupyter and ipywidgets. See https://ipywidgets.readthedocs.io/en/stable/user_install.html\n",
      "  from .autonotebook import tqdm as notebook_tqdm\n"
     ]
    }
   ],
   "source": [
    "from llama_index.core import SimpleDirectoryReader,VectorStoreIndex,SummaryIndex,Settings\n",
    "from llama_index.core.node_parser import SentenceSplitter\n",
    "from llama_index.embeddings.fastembed import FastEmbedEmbedding\n",
    "from llama_index.core.tools import QueryEngineTool\n",
    "from llama_index.core.query_engine.router_query_engine import RouterQueryEngine\n",
    "from llama_index.core.selectors import LLMSingleSelector\n",
    "from llama_index.llms.openai import OpenAI"
   ]
  },
  {
   "cell_type": "code",
   "execution_count": 4,
   "metadata": {},
   "outputs": [
    {
     "name": "stderr",
     "output_type": "stream",
     "text": [
      "Fetching 5 files: 100%|██████████| 5/5 [00:00<00:00, 59409.41it/s]\n"
     ]
    },
    {
     "name": "stdout",
     "output_type": "stream",
     "text": [
      "creating instance of LLM\n"
     ]
    }
   ],
   "source": [
    "embed_model = FastEmbedEmbedding(model_name=\"BAAI/bge-small-en-v1.5\")\n",
    "Settings.embed_model = embed_model\n",
    "Settings.chunk_size = 1024\n",
    "\n",
    "print(\"creating instance of LLM\")\n",
    "Settings.llm = OpenAI(model=\"gpt-3.5-turbo\")"
   ]
  },
  {
   "cell_type": "code",
   "execution_count": 5,
   "metadata": {},
   "outputs": [
    {
     "name": "stderr",
     "output_type": "stream",
     "text": [
      "/Users/alina.ghani/VS_project/hotel_data/ContentGen/ENV/lib/python3.12/site-packages/pypdf/_crypt_providers/_cryptography.py:32: CryptographyDeprecationWarning: ARC4 has been moved to cryptography.hazmat.decrepit.ciphers.algorithms.ARC4 and will be removed from this module in 48.0.0.\n",
      "  from cryptography.hazmat.primitives.ciphers.algorithms import AES, ARC4\n"
     ]
    },
    {
     "name": "stdout",
     "output_type": "stream",
     "text": [
      "44\n",
      "Document Metadata: {'page_label': '1', 'file_name': 'V11_Argumentaire_Peugeot_2024.pdf', 'file_path': '/Users/alina.ghani/VS_project/chatbot_dan/data/doc/V11_Argumentaire_Peugeot_2024.pdf', 'file_type': 'application/pdf', 'file_size': 12583420, 'creation_date': '2024-07-30', 'last_modified_date': '2024-07-21'}\n",
      "Length of nodes : 44\n"
     ]
    }
   ],
   "source": [
    "\n",
    "documents = SimpleDirectoryReader(input_files = ['/Users/alina.ghani/VS_project/chatbot_dan/data/doc/V11_Argumentaire_Peugeot_2024.pdf']).load_data()\n",
    "print(len(documents))\n",
    "print(f\"Document Metadata: {documents[0].metadata}\")\n",
    "\n",
    "splitter = SentenceSplitter(chunk_size=1024,chunk_overlap=100)\n",
    "nodes = splitter.get_nodes_from_documents(documents)\n",
    "print(f\"Length of nodes : {len(nodes)}\")"
   ]
  },
  {
   "cell_type": "code",
   "execution_count": 6,
   "metadata": {},
   "outputs": [
    {
     "name": "stderr",
     "output_type": "stream",
     "text": [
      "huggingface/tokenizers: The current process just got forked, after parallelism has already been used. Disabling parallelism to avoid deadlocks...\n",
      "To disable this warning, you can either:\n",
      "\t- Avoid using `tokenizers` before the fork if possible\n",
      "\t- Explicitly set the environment variable TOKENIZERS_PARALLELISM=(true | false)\n"
     ]
    },
    {
     "name": "stdout",
     "output_type": "stream",
     "text": [
      "\u001b[1;3;38;5;200mSelecting query engine 0: Useful for summarization questions related to the document.\n",
      "\u001b[0m"
     ]
    },
    {
     "name": "stderr",
     "output_type": "stream",
     "text": [
      "huggingface/tokenizers: The current process just got forked, after parallelism has already been used. Disabling parallelism to avoid deadlocks...\n",
      "To disable this warning, you can either:\n",
      "\t- Avoid using `tokenizers` before the fork if possible\n",
      "\t- Explicitly set the environment variable TOKENIZERS_PARALLELISM=(true | false)\n"
     ]
    },
    {
     "name": "stdout",
     "output_type": "stream",
     "text": [
      "The document provides a comprehensive overview of Peugeot's electric vehicle lineup, detailing various models like E-208, E-2008, E-3008, E-308, E-308 SW, 508, E-Rifter, E-Traveller, E-Partner, E-Expert, and E-Boxer. It covers key aspects such as battery technology, charging capabilities, range, emissions, and charging times for each model. Additionally, it emphasizes the importance of connected mobility services like Connect One, Connect Plus, and Connect Premium packages, along with applications such as MyPeugeot, E-Routes, and eSolutions Charging for efficient monitoring and management of electric vehicles. The document also discusses government incentives, fiscal policies, extended warranties, and maintenance programs that highlight Peugeot's commitment to quality and reliability in the electric vehicle market.\n",
      "44\n"
     ]
    }
   ],
   "source": [
    "\n",
    "summary_index = SummaryIndex(nodes)\n",
    "vector_index = VectorStoreIndex(nodes)\n",
    "\n",
    "summary_query_engine = summary_index.as_query_engine(\n",
    "    response_mode=\"tree_summarize\",\n",
    "    use_async=True,\n",
    ")\n",
    "vector_query_engine = vector_index.as_query_engine()\n",
    "\n",
    "\n",
    "summary_tool = QueryEngineTool.from_defaults(\n",
    "    query_engine=summary_query_engine,\n",
    "    description=(\n",
    "        \"Useful for summarization questions related to the document\"\n",
    "    ),\n",
    ")\n",
    "\n",
    "vector_tool = QueryEngineTool.from_defaults(\n",
    "    query_engine=vector_query_engine,\n",
    "    description=(\n",
    "        \"Useful for retrieving specific context from the document.\"\n",
    "    ),\n",
    ")\n",
    "\n",
    "query_engine = RouterQueryEngine(\n",
    "    selector=LLMSingleSelector.from_defaults(),\n",
    "    query_engine_tools=[\n",
    "        summary_tool,\n",
    "        vector_tool,\n",
    "    ],\n",
    "    verbose=True\n",
    ")\n",
    "\n",
    "response = query_engine.query(\"Explain the document i want a summury  ?\")\n",
    "print(str(response))\n",
    "print(len(response.source_nodes))"
   ]
  },
  {
   "cell_type": "markdown",
   "metadata": {},
   "source": [
    "# RouterQueryEngine for summarization and context retrieval."
   ]
  },
  {
   "cell_type": "code",
   "execution_count": 3,
   "metadata": {},
   "outputs": [
    {
     "name": "stderr",
     "output_type": "stream",
     "text": [
      "/Users/alina.ghani/VS_project/hotel_data/ContentGen/ENV/lib/python3.12/site-packages/elasticsearch/_sync/client/__init__.py:399: SecurityWarning: Connecting to 'https://371e52c2ddc94eeda8d2dbeb8acc5645.us-central1.gcp.cloud.es.io:443' using TLS with verify_certs=False is insecure\n",
      "  _transport = transport_class(\n"
     ]
    }
   ],
   "source": [
    "import os\n",
    "from dotenv import load_dotenv\n",
    "from elasticsearch import Elasticsearch\n",
    "\n",
    "# Load environment variables\n",
    "load_dotenv()\n",
    "\n",
    "# Elasticsearch configurations with increased timeouts\n",
    "es_client = Elasticsearch(\n",
    "    \"https://371e52c2ddc94eeda8d2dbeb8acc5645.us-central1.gcp.cloud.es.io:443\",\n",
    "    api_key=os.environ[\"elastic_host\"],\n",
    "    verify_certs=False,\n",
    "    request_timeout=120,\n",
    "    max_retries=10,\n",
    "    retry_on_timeout=True\n",
    ")\n",
    "\n",
    "\n",
    "## key\n",
    "index_source_fields = {\n",
    "    \"peugeot_ev_pdf\": [\"content\"],\n",
    "}\n"
   ]
  },
  {
   "cell_type": "code",
   "execution_count": 4,
   "metadata": {},
   "outputs": [
    {
     "name": "stderr",
     "output_type": "stream",
     "text": [
      "/Users/alina.ghani/VS_project/hotel_data/ContentGen/ENV/lib/python3.12/site-packages/urllib3/connectionpool.py:1099: InsecureRequestWarning: Unverified HTTPS request is being made to host '371e52c2ddc94eeda8d2dbeb8acc5645.us-central1.gcp.cloud.es.io'. Adding certificate verification is strongly advised. See: https://urllib3.readthedocs.io/en/latest/advanced-usage.html#tls-warnings\n",
      "  warnings.warn(\n"
     ]
    },
    {
     "ename": "NameError",
     "evalue": "name 'Document' is not defined",
     "output_type": "error",
     "traceback": [
      "\u001b[0;31m---------------------------------------------------------------------------\u001b[0m",
      "\u001b[0;31mNameError\u001b[0m                                 Traceback (most recent call last)",
      "Cell \u001b[0;32mIn[4], line 23\u001b[0m\n\u001b[1;32m     21\u001b[0m \u001b[38;5;66;03m# Example query\u001b[39;00m\n\u001b[1;32m     22\u001b[0m query \u001b[38;5;241m=\u001b[39m \u001b[38;5;124m\"\u001b[39m\u001b[38;5;124mExplain the document, I want a summary.\u001b[39m\u001b[38;5;124m\"\u001b[39m\n\u001b[0;32m---> 23\u001b[0m documents \u001b[38;5;241m=\u001b[39m \u001b[43mretrieve_documents\u001b[49m\u001b[43m(\u001b[49m\u001b[43mquery\u001b[49m\u001b[43m)\u001b[49m\n\u001b[1;32m     25\u001b[0m \u001b[38;5;66;03m# Initialize SentenceSplitter with a larger chunk size to handle larger metadata\u001b[39;00m\n\u001b[1;32m     26\u001b[0m splitter \u001b[38;5;241m=\u001b[39m SentenceSplitter(chunk_size\u001b[38;5;241m=\u001b[39m\u001b[38;5;241m20000\u001b[39m, chunk_overlap\u001b[38;5;241m=\u001b[39m\u001b[38;5;241m100\u001b[39m)\n",
      "Cell \u001b[0;32mIn[4], line 18\u001b[0m, in \u001b[0;36mretrieve_documents\u001b[0;34m(query)\u001b[0m\n\u001b[1;32m     16\u001b[0m     \u001b[38;5;66;03m# Trim down metadata and handle missing keys\u001b[39;00m\n\u001b[1;32m     17\u001b[0m     essential_metadata \u001b[38;5;241m=\u001b[39m {key: metadata\u001b[38;5;241m.\u001b[39mget(key, \u001b[38;5;124m'\u001b[39m\u001b[38;5;124mN/A\u001b[39m\u001b[38;5;124m'\u001b[39m) \u001b[38;5;28;01mfor\u001b[39;00m key \u001b[38;5;129;01min\u001b[39;00m (\u001b[38;5;124m'\u001b[39m\u001b[38;5;124mtitle\u001b[39m\u001b[38;5;124m'\u001b[39m, \u001b[38;5;124m'\u001b[39m\u001b[38;5;124mauthor\u001b[39m\u001b[38;5;124m'\u001b[39m, \u001b[38;5;124m'\u001b[39m\u001b[38;5;124mdate\u001b[39m\u001b[38;5;124m'\u001b[39m)}\n\u001b[0;32m---> 18\u001b[0m     documents\u001b[38;5;241m.\u001b[39mappend(\u001b[43mDocument\u001b[49m(text\u001b[38;5;241m=\u001b[39mhit[\u001b[38;5;124m'\u001b[39m\u001b[38;5;124m_source\u001b[39m\u001b[38;5;124m'\u001b[39m][\u001b[38;5;124m'\u001b[39m\u001b[38;5;124mcontent\u001b[39m\u001b[38;5;124m'\u001b[39m], extra_info\u001b[38;5;241m=\u001b[39messential_metadata))\n\u001b[1;32m     19\u001b[0m \u001b[38;5;28;01mreturn\u001b[39;00m documents\n",
      "\u001b[0;31mNameError\u001b[0m: name 'Document' is not defined"
     ]
    }
   ],
   "source": [
    "from llama_index.core import Document\n",
    "\n",
    "def retrieve_documents(query):\n",
    "    response = es_client.search(\n",
    "        index=\"peugeot_ev_pdf\",\n",
    "        body={\n",
    "            \"query\": {\n",
    "                \"match\": {\n",
    "                    \"content\": query\n",
    "                }\n",
    "            }\n",
    "        }\n",
    "    )\n",
    "    hits = response['hits']['hits']\n",
    "    documents = []\n",
    "    for hit in hits:\n",
    "        metadata = hit['_source']['metadata']\n",
    "        # Trim down metadata and handle missing keys\n",
    "        essential_metadata = {key: metadata.get(key, 'N/A') for key in ('title', 'author', 'date')}\n",
    "        documents.append(Document(text=hit['_source']['content'], extra_info=essential_metadata))\n",
    "    return documents\n",
    "\n",
    "# Example query\n",
    "query = \"Explain the document, I want a summary.\"\n",
    "documents = retrieve_documents(query)\n",
    "\n",
    "# Initialize SentenceSplitter with a larger chunk size to handle larger metadata\n",
    "splitter = SentenceSplitter(chunk_size=20000, chunk_overlap=100)\n",
    "nodes = splitter.get_nodes_from_documents(documents)\n",
    "nodes = splitter.get_nodes_from_documents(documents)"
   ]
  },
  {
   "cell_type": "code",
   "execution_count": 45,
   "metadata": {},
   "outputs": [
    {
     "name": "stderr",
     "output_type": "stream",
     "text": [
      "Fetching 5 files: 100%|██████████| 5/5 [00:00<00:00, 33770.56it/s]"
     ]
    },
    {
     "name": "stdout",
     "output_type": "stream",
     "text": [
      "Creating instance of LLM\n"
     ]
    },
    {
     "name": "stderr",
     "output_type": "stream",
     "text": [
      "\n"
     ]
    }
   ],
   "source": [
    "# Set up the embedding model and language model\n",
    "embed_model = FastEmbedEmbedding(model_name=\"BAAI/bge-small-en-v1.5\")\n",
    "Settings.embed_model = embed_model\n",
    "Settings.chunk_size = 1024\n",
    "\n",
    "print(\"Creating instance of LLM\")\n",
    "Settings.llm = OpenAI(model=\"gpt-3.5-turbo\")"
   ]
  },
  {
   "cell_type": "code",
   "execution_count": 47,
   "metadata": {},
   "outputs": [
    {
     "name": "stdout",
     "output_type": "stream",
     "text": [
      "\u001b[1;3;38;5;200mSelecting query engine 0: Useful for summarization questions related to the document.\n",
      "\u001b[0mThe document provides detailed information on electric vehicles, including incentives and regulations in France. It covers topics such as the environmental impact score, fiscal benefits, types of electric vehicles available, charging infrastructure, and power requirements for residential electric installations. Additionally, it discusses the criteria for receiving eco-bonuses, the importance of the environmental score, and the different types of electric vehicle technologies available in the market.\n"
     ]
    }
   ],
   "source": [
    "# Create indices\n",
    "summary_index = SummaryIndex(nodes)\n",
    "vector_index = VectorStoreIndex(nodes)\n",
    "\n",
    "# Create query engines\n",
    "summary_query_engine = summary_index.as_query_engine(response_mode=\"tree_summarize\", use_async=True)\n",
    "vector_query_engine = vector_index.as_query_engine()\n",
    "\n",
    "# Create query tools\n",
    "summary_tool = QueryEngineTool.from_defaults(query_engine=summary_query_engine, description=\"Useful for summarization questions related to the document\")\n",
    "vector_tool = QueryEngineTool.from_defaults(query_engine=vector_query_engine, description=\"Useful for retrieving specific context from the document.\")\n",
    "\n",
    "# Create router query engine\n",
    "query_engine = RouterQueryEngine(\n",
    "    selector=LLMSingleSelector.from_defaults(),\n",
    "    query_engine_tools=[summary_tool, vector_tool],\n",
    "    verbose=True\n",
    ")\n",
    "\n",
    "# Perform a query\n",
    "response = query_engine.query(query)\n",
    "print(str(response))"
   ]
  },
  {
   "cell_type": "code",
   "execution_count": 48,
   "metadata": {},
   "outputs": [
    {
     "name": "stdout",
     "output_type": "stream",
     "text": [
      "\u001b[1;3;38;5;200mSelecting query engine 1: Useful for retrieving specific context from the document..\n",
      "\u001b[0mThe e-208 is one of the electric vehicle models eligible for the Wallbox offer mentioned in the text. It is available for both individual customers and businesses. Additionally, the e-208 is part of the vehicles that qualify for the prime à la conversion, which provides incentives for purchasing 100% electric vehicles.\n"
     ]
    }
   ],
   "source": [
    "query2 = \"talk me about e-208\"\n",
    "response2 = query_engine.query(query2)\n",
    "print(str(response2))\n"
   ]
  },
  {
   "cell_type": "code",
   "execution_count": null,
   "metadata": {},
   "outputs": [],
   "source": []
  }
 ],
 "metadata": {
  "kernelspec": {
   "display_name": "venv",
   "language": "python",
   "name": "python3"
  },
  "language_info": {
   "codemirror_mode": {
    "name": "ipython",
    "version": 3
   },
   "file_extension": ".py",
   "mimetype": "text/x-python",
   "name": "python",
   "nbconvert_exporter": "python",
   "pygments_lexer": "ipython3",
   "version": "3.12.4"
  }
 },
 "nbformat": 4,
 "nbformat_minor": 2
}

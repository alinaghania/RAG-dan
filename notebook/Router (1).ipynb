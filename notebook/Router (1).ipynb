{
 "cells": [
  {
   "cell_type": "code",
   "execution_count": 44,
   "metadata": {},
   "outputs": [],
   "source": [
    "import nest_asyncio\n",
    "nest_asyncio.apply()"
   ]
  },
  {
   "cell_type": "code",
   "execution_count": 45,
   "metadata": {},
   "outputs": [],
   "source": [
    "from llama_index.core import SimpleDirectoryReader,VectorStoreIndex,SummaryIndex,Settings\n",
    "from llama_index.core.node_parser import SentenceSplitter\n",
    "# from llama_index.embeddings.fastembed import FastEmbedEmbedding\n",
    "from llama_index.core.tools import QueryEngineTool\n",
    "from llama_index.core.query_engine.router_query_engine import RouterQueryEngine\n",
    "from llama_index.core.selectors import LLMSingleSelector\n",
    "from llama_index.llms.openai import OpenAI\n",
    "from sentence_transformers import SentenceTransformer\n",
    "from pathlib import Path\n",
    "from llama_parse import LlamaParse\n",
    "from llama_index.embeddings.openai import OpenAIEmbedding\n",
    "from dotenv import load_dotenv\n",
    "import os\n",
    "from pathlib import Path\n",
    "\n",
    "# Load environment variables\n",
    "load_dotenv()\n",
    "\n",
    "DATA_PATH = Path().cwd().parent / \"data\" / 'V11_Argumentaire_Peugeot_2024.pdf'"
   ]
  },
  {
   "cell_type": "code",
   "execution_count": 39,
   "metadata": {},
   "outputs": [
    {
     "name": "stdout",
     "output_type": "stream",
     "text": [
      "Started parsing the file under job_id a4c9a2f2-7778-49f4-b2d4-75ffbaad0978\n"
     ]
    }
   ],
   "source": [
    "# Initialize the parser with multimodal settings\n",
    "# parser = LlamaParse(\n",
    "#     api_key=os.getenv(\"LLAMA_CLOUD_API_KEY_2\"),\n",
    "#     use_vendor_multimodal_model=True,\n",
    "#     vendor_multimodal_model_name=\"openai-gpt4o\"\n",
    "# )\n",
    "\n",
    "# # Use SimpleDirectoryReader to parse the file\n",
    "# file_extractor = {\".pdf\": parser}\n",
    "# documents = SimpleDirectoryReader(input_files=[DATA_PATH], file_extractor=file_extractor).load_data()\n",
    "\n",
    "# # Save the parsed result to a markdown file\n",
    "# with open('parsed_result_gpt.md', 'w') as result_file:\n",
    "#     for doc in documents:\n",
    "#         result_file.write(doc.text)"
   ]
  },
  {
   "cell_type": "code",
   "execution_count": 46,
   "metadata": {},
   "outputs": [
    {
     "name": "stdout",
     "output_type": "stream",
     "text": [
      "creating instance of LLM\n"
     ]
    }
   ],
   "source": [
    "Settings.embed_model = OpenAIEmbedding(model=\"text-embedding-3-small\")\n",
    "Settings.chunk_size = 1024\n",
    "\n",
    "print(\"creating instance of LLM\")\n",
    "Settings.llm = OpenAI(model=\"gpt-4-turbo-2024-04-09\")"
   ]
  },
  {
   "cell_type": "code",
   "execution_count": 47,
   "metadata": {},
   "outputs": [
    {
     "name": "stdout",
     "output_type": "stream",
     "text": [
      "Length of nodes : 55\n"
     ]
    }
   ],
   "source": [
    "splitter = SentenceSplitter(chunk_size=1024,chunk_overlap=100)\n",
    "nodes = splitter.get_nodes_from_documents(documents)\n",
    "\n",
    "print(f\"Length of nodes : {len(nodes)}\")"
   ]
  },
  {
   "cell_type": "code",
   "execution_count": 48,
   "metadata": {},
   "outputs": [
    {
     "name": "stdout",
     "output_type": "stream",
     "text": [
      "\u001b[1;3;38;5;200mSelecting query engine 1: This choice is relevant because the question asks for specific details about the advantages of the e-208 electric, which requires retrieving specific context from the document..\n",
      "\u001b[0mThe E-208, being a fully electric vehicle (BEV), offers the advantage of zero CO₂ emissions during driving. This makes it an environmentally friendly option, contributing to reduced air pollution. Additionally, as a BEV, it qualifies for ecological bonuses in many regions, enhancing its affordability and appeal to eco-conscious consumers.\n",
      "2\n"
     ]
    }
   ],
   "source": [
    "summary_index = SummaryIndex(nodes)\n",
    "vector_index = VectorStoreIndex(nodes)\n",
    "\n",
    "summary_query_engine = summary_index.as_query_engine(\n",
    "    response_mode=\"tree_summarize\",\n",
    "    use_async=True,\n",
    ")\n",
    "vector_query_engine = vector_index.as_query_engine()\n",
    "\n",
    "summary_tool = QueryEngineTool.from_defaults(\n",
    "    query_engine=summary_query_engine,\n",
    "    description=(\n",
    "        \"Useful for summarization questions related to the document\"\n",
    "    ),\n",
    ")\n",
    "\n",
    "vector_tool = QueryEngineTool.from_defaults(\n",
    "    query_engine=vector_query_engine,\n",
    "    description=(\n",
    "        \"Useful for retrieving specific context from the document.\"\n",
    "    ),\n",
    ")\n",
    "\n",
    "query_engine = RouterQueryEngine(\n",
    "    selector=LLMSingleSelector.from_defaults(),\n",
    "    query_engine_tools=[\n",
    "        summary_tool,\n",
    "        vector_tool,\n",
    "    ],\n",
    "    verbose=True\n",
    ")\n",
    "\n",
    "response = query_engine.query(\"Explain the advantages of e-208 electric ?\")\n",
    "print(str(response))\n",
    "print(len(response.source_nodes))"
   ]
  },
  {
   "cell_type": "code",
   "execution_count": null,
   "metadata": {},
   "outputs": [],
   "source": []
  },
  {
   "cell_type": "code",
   "execution_count": null,
   "metadata": {},
   "outputs": [],
   "source": []
  },
  {
   "cell_type": "code",
   "execution_count": null,
   "metadata": {},
   "outputs": [],
   "source": []
  }
 ],
 "metadata": {
  "kernelspec": {
   "display_name": "venv",
   "language": "python",
   "name": "python3"
  },
  "language_info": {
   "codemirror_mode": {
    "name": "ipython",
    "version": 3
   },
   "file_extension": ".py",
   "mimetype": "text/x-python",
   "name": "python",
   "nbconvert_exporter": "python",
   "pygments_lexer": "ipython3",
   "version": "3.12.2"
  }
 },
 "nbformat": 4,
 "nbformat_minor": 2
}

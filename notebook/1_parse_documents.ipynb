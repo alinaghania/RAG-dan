{
 "cells": [
  {
   "cell_type": "markdown",
   "metadata": {},
   "source": [
    "#  **P.A.R.S.E.R**"
   ]
  },
  {
   "cell_type": "markdown",
   "metadata": {},
   "source": [
    "### Source : **https://docs.cloud.llamaindex.ai/llamaparse/features/multimodal**"
   ]
  },
  {
   "cell_type": "markdown",
   "metadata": {},
   "source": [
    "## **What is Multimodal Parsing?**\n",
    "\n",
    "Multimodal parsing refers to the ability of a model to process and understand multiple forms of data simultaneously. In the context of LlamaParse, this means the model can handle not just text but also images, tables, and other document elements. This approach is particularly useful for documents like PDFs where the information is presented in various formats (text, images, charts, etc.)."
   ]
  },
  {
   "cell_type": "markdown",
   "metadata": {},
   "source": [
    "## **How it works ?**\n",
    "\n",
    "When using this mode, LlamaParse's regular parsing is bypassed and instead the following process is used:\n",
    "\n",
    "- A screenshot of every page of your document is taken\n",
    "- Each page screenshot is sent to the multimodal with instruction to extract as markdown\n",
    "- The resulting markdown of each page is consolidated into the final result.\n",
    "\n",
    "=> More expensive than LlamaParse's regular parsing"
   ]
  },
  {
   "cell_type": "markdown",
   "metadata": {},
   "source": [
    "## **Example of code**"
   ]
  },
  {
   "cell_type": "markdown",
   "metadata": {},
   "source": [
    "### A - Example of multimodal with GPT-40"
   ]
  },
  {
   "cell_type": "code",
   "execution_count": 1,
   "metadata": {},
   "outputs": [
    {
     "name": "stdout",
     "output_type": "stream",
     "text": [
      "Started parsing the file under job_id cac11eca-46ae-40e4-9614-edc8189c7b32\n"
     ]
    }
   ],
   "source": [
    "import os\n",
    "import nest_asyncio\n",
    "from dotenv import load_dotenv\n",
    "from llama_parse import LlamaParse\n",
    "from llama_index.core import SimpleDirectoryReader\n",
    "\n",
    "# Allow nested event loops\n",
    "nest_asyncio.apply()\n",
    "\n",
    "# Load environment variables\n",
    "load_dotenv()\n",
    "\n",
    "# Initialize the parser with multimodal settings\n",
    "parser = LlamaParse(\n",
    "    api_key=os.getenv(\"LLAMA_CLOUD_API_KEY\"),\n",
    "    use_vendor_multimodal_model=True,\n",
    "    vendor_multimodal_model_name=\"openai-gpt4o\"\n",
    ")\n",
    "\n",
    "# Use SimpleDirectoryReader to parse the file\n",
    "file_extractor = {\".pdf\": parser}\n",
    "documents = SimpleDirectoryReader(input_files=['/data/doc_1pdf.pdf'], file_extractor=file_extractor).load_data()\n",
    "\n",
    "# Save the parsed result to a markdown file\n",
    "with open('parsed_result_gpt.md', 'w') as result_file:\n",
    "    for doc in documents:\n",
    "        result_file.write(doc.text)  \n"
   ]
  },
  {
   "cell_type": "markdown",
   "metadata": {},
   "source": [
    "### B - Example of multimodal with CLAUDE "
   ]
  },
  {
   "cell_type": "code",
   "execution_count": 2,
   "metadata": {},
   "outputs": [
    {
     "name": "stdout",
     "output_type": "stream",
     "text": [
      "Started parsing the file under job_id 8e450f4c-1ba4-4b64-8d37-1666b5b15d75\n"
     ]
    }
   ],
   "source": [
    "import os\n",
    "import nest_asyncio\n",
    "from dotenv import load_dotenv\n",
    "from llama_parse import LlamaParse\n",
    "from llama_index.core import SimpleDirectoryReader\n",
    "\n",
    "# Allow nested event loops\n",
    "nest_asyncio.apply()\n",
    "\n",
    "# Load environment variables\n",
    "load_dotenv()\n",
    "\n",
    "# Initialize the parser with multimodal settings\n",
    "parser = LlamaParse(\n",
    "    api_key=os.getenv(\"LLAMA_CLOUD_API_KEY\"),\n",
    "    use_vendor_multimodal_model=True,\n",
    "    vendor_multimodal_model_name=\"anthropic-sonnet-3.5\"\n",
    ")\n",
    "\n",
    "# Use SimpleDirectoryReader to parse the file\n",
    "file_extractor = {\".pdf\": parser}\n",
    "documents = SimpleDirectoryReader(input_files=['doc_2pdf.pdf'], file_extractor=file_extractor).load_data()\n",
    "\n",
    "# Save the parsed result to a markdown file\n",
    "with open('parsed_result_claude.md', 'w') as result_file:\n",
    "    for doc in documents:\n",
    "        result_file.write(doc.text)  "
   ]
  }
 ],
 "metadata": {
  "kernelspec": {
   "display_name": "Python 3",
   "language": "python",
   "name": "python3"
  },
  "language_info": {
   "codemirror_mode": {
    "name": "ipython",
    "version": 3
   },
   "file_extension": ".py",
   "mimetype": "text/x-python",
   "name": "python",
   "nbconvert_exporter": "python",
   "pygments_lexer": "ipython3",
   "version": "3.12.4"
  }
 },
 "nbformat": 4,
 "nbformat_minor": 2
}

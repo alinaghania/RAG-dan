{
 "cells": [
  {
   "cell_type": "markdown",
   "metadata": {},
   "source": [
    "#  **P.A.R.S.E.R**"
   ]
  },
  {
   "cell_type": "markdown",
   "metadata": {},
   "source": [
    "### Source : **https://docs.cloud.llamaindex.ai/llamaparse/features/multimodal**"
   ]
  },
  {
   "cell_type": "markdown",
   "metadata": {},
   "source": [
    "## **What is Multimodal Parsing?**\n",
    "\n",
    "Multimodal parsing refers to the ability of a model to process and understand multiple forms of data simultaneously. In the context of LlamaParse, this means the model can handle not just text but also images, tables, and other document elements. This approach is particularly useful for documents like PDFs where the information is presented in various formats (text, images, charts, etc.)."
   ]
  },
  {
   "cell_type": "markdown",
   "metadata": {},
   "source": [
    "## **How it works ?**\n",
    "\n",
    "When using this mode, LlamaParse's regular parsing is bypassed and instead the following process is used:\n",
    "\n",
    "- A screenshot of every page of your document is taken\n",
    "- Each page screenshot is sent to the multimodal with instruction to extract as markdown\n",
    "- The resulting markdown of each page is consolidated into the final result.\n",
    "\n",
    "=> More expensive than LlamaParse's regular parsing"
   ]
  },
  {
   "cell_type": "markdown",
   "metadata": {},
   "source": [
    "## **Example of code**"
   ]
  },
  {
   "cell_type": "markdown",
   "metadata": {},
   "source": [
    "### A - Example of multimodal with GPT-40"
   ]
  },
  {
   "cell_type": "code",
   "execution_count": 1,
   "metadata": {},
   "outputs": [
    {
     "name": "stdout",
     "output_type": "stream",
     "text": [
      "Started parsing the file under job_id 84bda804-5d8b-4fd4-991f-db3b2101fff4\n"
     ]
    }
   ],
   "source": [
    "import os\n",
    "import nest_asyncio\n",
    "from dotenv import load_dotenv\n",
    "from llama_parse import LlamaParse\n",
    "from llama_index.core import SimpleDirectoryReader\n",
    "\n",
    "# Allow nested event loops\n",
    "nest_asyncio.apply()\n",
    "\n",
    "# Load environment variables\n",
    "load_dotenv()\n",
    "\n",
    "# Initialize the parser with multimodal settings\n",
    "parser = LlamaParse(\n",
    "    api_key=os.getenv(\"LLAMA_CLOUD_API_KEY\"),\n",
    "    use_vendor_multimodal_model=True,\n",
    "    vendor_multimodal_model_name=\"openai-gpt4o\"\n",
    ")\n",
    "\n",
    "# Use SimpleDirectoryReader to parse the file\n",
    "file_extractor = {\".pdf\": parser}\n",
    "documents = SimpleDirectoryReader(input_files=['/Users/alina.ghani/VS_project/chatbot_dan/data/doc/V11_Argumentaire_Peugeot_2024.pdf'], file_extractor=file_extractor).load_data()\n",
    "\n",
    "# Save the parsed result to a markdown file\n",
    "with open('parsed_result_gpt.md', 'w') as result_file:\n",
    "    for doc in documents:\n",
    "        result_file.write(doc.text)  \n"
   ]
  },
  {
   "cell_type": "markdown",
   "metadata": {},
   "source": [
    "### B - Example of multimodal with CLAUDE "
   ]
  },
  {
   "cell_type": "code",
   "execution_count": 2,
   "metadata": {},
   "outputs": [
    {
     "name": "stdout",
     "output_type": "stream",
     "text": [
      "Started parsing the file under job_id f3d794f1-6b8e-4fa8-90ad-16de8cf625ab\n",
      "."
     ]
    }
   ],
   "source": [
    "import os\n",
    "import nest_asyncio\n",
    "from dotenv import load_dotenv\n",
    "from llama_parse import LlamaParse\n",
    "from llama_index.core import SimpleDirectoryReader\n",
    "\n",
    "# Allow nested event loops\n",
    "nest_asyncio.apply()\n",
    "\n",
    "# Load environment variables\n",
    "load_dotenv()\n",
    "\n",
    "# Initialize the parser with multimodal settings\n",
    "parser = LlamaParse(\n",
    "    api_key=os.getenv(\"LLAMA_CLOUD_API_KEY\"),\n",
    "    use_vendor_multimodal_model=True,\n",
    "    vendor_multimodal_model_name=\"anthropic-sonnet-3.5\"\n",
    ")\n",
    "\n",
    "# Use SimpleDirectoryReader to parse the file\n",
    "file_extractor = {\".pdf\": parser}\n",
    "documents = SimpleDirectoryReader(input_files=['/Users/alina.ghani/VS_project/chatbot_dan/data/doc/V11_Argumentaire_Peugeot_2024.pdf'], file_extractor=file_extractor).load_data()\n",
    "\n",
    "# Save the parsed result to a markdown file\n",
    "with open('parsed_result_claude.md', 'w') as result_file:\n",
    "    for doc in documents:\n",
    "        result_file.write(doc.text)  "
   ]
  },
  {
   "cell_type": "markdown",
   "metadata": {},
   "source": [
    "## Function to clean data"
   ]
  },
  {
   "cell_type": "code",
   "execution_count": 5,
   "metadata": {},
   "outputs": [
    {
     "name": "stdout",
     "output_type": "stream",
     "text": [
      "Unicode escape sequences have been decoded and the cleaned data is saved in 'cleaned_data.json'.\n"
     ]
    }
   ],
   "source": [
    "import json\n",
    "\n",
    "# Read JSON file\n",
    "with open('/Users/alina.ghani/VS_project/chatbot_dan/data/parsed_doc/parsed_result_with_descriptions.json', 'r') as file:\n",
    "    data = json.load(file)\n",
    "\n",
    "import json\n",
    "\n",
    "def decode_unicode(data):\n",
    "    if isinstance(data, str):\n",
    "        return data.encode().decode('unicode_escape')\n",
    "    elif isinstance(data, dict):\n",
    "        return {k: decode_unicode(v) for k, v in data.items()}\n",
    "    elif isinstance(data, list):\n",
    "        return [decode_unicode(i) for i in data]\n",
    "    else:\n",
    "        return data\n",
    "\n",
    "# Read JSON file\n",
    "with open('/Users/alina.ghani/VS_project/chatbot_dan/data/parsed_doc/parsed_result_with_descriptions.json', 'r', encoding='utf-8') as file:\n",
    "    data = json.load(file)\n",
    "\n",
    "# Decode Unicode escape sequences\n",
    "decoded_data = decode_unicode(data)\n",
    "\n",
    "# Write cleaned data back to JSON file\n",
    "with open('/Users/alina.ghani/VS_project/chatbot_dan/data/parsed_doc/parsed_result_with_descriptions.json', 'w', encoding='utf-8') as file:\n",
    "    json.dump(decoded_data, file, ensure_ascii=False, indent=4)\n",
    "\n",
    "print(\"Unicode escape sequences have been decoded and the cleaned data is saved in 'cleaned_data.json'.\")\n",
    "\n"
   ]
  },
  {
   "cell_type": "markdown",
   "metadata": {},
   "source": [
    "## WITH ARGUMENTS"
   ]
  },
  {
   "cell_type": "code",
   "execution_count": 20,
   "metadata": {},
   "outputs": [
    {
     "name": "stdout",
     "output_type": "stream",
     "text": [
      "Error while parsing the file '<bytes/buffer>': Failed to parse the file: {\"detail\":\"You've exceeded the maximum number of pages you can parse in a day (1000). Please contact support to increase your limit.\"}\n"
     ]
    }
   ],
   "source": [
    "import os\n",
    "import nest_asyncio\n",
    "from dotenv import load_dotenv\n",
    "from llama_parse import LlamaParse\n",
    "from llama_index.core import SimpleDirectoryReader\n",
    "\n",
    "# Allow nested event loops\n",
    "nest_asyncio.apply()\n",
    "\n",
    "# Load environment variables\n",
    "load_dotenv()\n",
    "\n",
    "# Initialize the parser with multimodal settings\n",
    "parser = LlamaParse(\n",
    "    api_key=os.getenv(\"LLAMA_CLOUD_API_KEY2\"),\n",
    "    use_vendor_multimodal_model=True,\n",
    "    vendor_multimodal_model_name=\"openai-gpt4o\",\n",
    "    parsing_instruction = \"\"\"\n",
    "                            You are parsing images from a document. Please extract only the descriptions of each image and ensure that each description has a unique key formatted as `image_x`, where x is a unique number from 1 to 132. Do not reuse any key. Focus exclusively on the text next to the images for their descriptions. Be precise and include all relevant details. For example, if there is an image of a car with the model name next to it, include the model name in the description. Ensure that only image descriptions are parsed, and nothing else.\n",
    "                            \"\"\",\n",
    "\n",
    "    result_type=\"text\"\n",
    ")\n",
    "\n",
    "# Use SimpleDirectoryReader to parse the file\n",
    "file_extractor = {\".pdf\": parser}\n",
    "\n",
    "try:\n",
    "    documents = SimpleDirectoryReader(input_files=['/Users/alina.ghani/VS_project/chatbot_dan/data/doc/V11_Argumentaire_Peugeot_2024.pdf'], file_extractor=file_extractor).load_data()\n",
    "\n",
    "    # Save the parsed result to a JSON file\n",
    "    with open('images_description.txt', 'w') as result_file:\n",
    "        for doc in documents:\n",
    "            result_file.write(doc.text)\n",
    "except Exception as e:\n",
    "    print(f\"Error while parsing the file: {e}\")\n"
   ]
  },
  {
   "cell_type": "markdown",
   "metadata": {},
   "source": [
    "## Ra aranger les keys image_1 unique key car un screenshot par page donc key non unique dans tout le doc!"
   ]
  },
  {
   "cell_type": "code",
   "execution_count": 26,
   "metadata": {},
   "outputs": [
    {
     "data": {
      "text/plain": [
       "('/Users/alina.ghani/VS_project/chatbot_dan/notebook/2_images_description_unique_key_modified.md',\n",
       " '/Users/alina.ghani/VS_project/chatbot_dan/notebook/3_images_description.json',\n",
       " {'image_1': '{\\n  \"description\": \"The image shows the rear view of a bright lime green Peugeot electric car, likely the e-208 GT model. The car\\'s sleek design is highlighted, with visible \\'PEUGEOT\\' lettering across the rear and the model designation \\'e-208 GT\\' visible. The image is set against a light blue sky background, creating a striking contrast with the car\\'s vibrant color. The Peugeot logo, featuring a lion\\'s head in a shield, is displayed at the top left of the image.\"\\n}NO_CONTENT_HERE# L\\'ÉLECTRIQUE POUR TOUS',\n",
       "  'image_2': 'Two people standing side by side, one wearing a blue shirt and the other in a white coat, with a bright light in the background.',\n",
       "  'image_3': 'Close-up of a Peugeot logo on a textured black surface.',\n",
       "  'image_4': \"Interior view of a car dashboard and steering wheel, with a person's hands visible on the wheel.\",\n",
       "  'image_5': 'A hand plugging in an electric vehicle charger, with the green charging port visible.',\n",
       "  'image_6': 'Three Peugeot electric vehicles in different shades of blue parked side by side.',\n",
       "  'image_7': 'A person holding a smartphone, likely using a mobility service app.',\n",
       "  'image_8': 'A Peugeot SUV in a stylized purple-lit environment, possibly showcasing cost of usage or new model.',\n",
       "  'image_9': 'Multiple Peugeot vehicles lined up, with a stylized battery icon above them, representing the Peugeot Allure Care program.# LE CONTEXTE',\n",
       "  'image_10': 'A close-up image showing the faces of two people, a man and a woman, against a blue sky background. The number \"01\" and the text \"LE CONTEXTE\" are overlaid on the image.',\n",
       "  'image_11': 'An advertisement for \"Automobiles Electriques Jenatzy\" showing an early electric vehicle design with large wheels and an open carriage-style body.',\n",
       "  'image_12': 'A white Peugeot VLV (Voiture Légère de Ville) electric car from 1941, with a compact, rounded body design.',\n",
       "  'image_13': 'A blue Peugeot 106 Electric car from 1993, showing a small hatchback design typical of the era.',\n",
       "  'image_14': 'An orange Peugeot iOn electric car from 2010, displaying a compact, modern city car design.',\n",
       "  'image_15': 'A blue Peugeot electric vehicle, likely an e-208 or e-2008 model, driving on a city street with buildings in the background.',\n",
       "  'image_16': 'A blue Peugeot e-208 electric car parked in front of a modern building with large windows.',\n",
       "  'image_17': 'A sleek blue Peugeot electric vehicle, possibly the new E-3008, parked in front of a stylish building at night.',\n",
       "  'image_18': 'A person standing next to a green Peugeot electric vehicle that is plugged into a charging station.',\n",
       "  'image_19': 'The flag of the European Union waving against a blue sky.',\n",
       "  'image_20': \"A close-up of a green leaf with water droplets, with a battery icon superimposed on it, symbolizing eco-friendly or zero-emission technology.# 1.2 ÉVOLUTION DES USAGES\\n\\nL'évolution de la conscience environnementale chez les consommateurs impacte le marché automobile. Beaucoup se tournent désormais vers des véhicules électrifiés, perçus comme plus écologiques. Les réglementations sur les émissions de CO₂ et les restrictions de circulation dans les centres-villes accélèrent cette tendance. Parallèlement, l'augmentation du prix des carburants renforce l'attrait des véhicules électriques. Cette dynamique se reflète dans la croissance des ventes de véhicules électrifiés observée en France, en Europe et à l'échelle mondiale, marquant ainsi un changement significatif dans les usages et préférences des consommateurs.\",\n",
       "  'image_21': 'A bar graph showing the evolution of electric vehicle sales in France from 2015 to 2023. The graph displays two types of data: 100% electric vehicles (in blue) and hybrid rechargeable vehicles (in grey). The total market share percentage is represented by a black line that increases over the years.',\n",
       "  'image_22': 'A circular chart showing that 62% of users use their electric vehicle for various trips (daily, weekend, holidays, etc.).',\n",
       "  'image_23': 'Two circular charts side by side. The left chart shows that 59% of electric vehicle users who charge at home live in apartment buildings. The right chart shows that 88% of those who charge at home live in individual houses.# LES TECHNOLOGIES',\n",
       "  'image_24': 'The image shows the Peugeot logo, which is a stylized lion\\'s head in a shield shape, illuminated in orange against a dark background with blue diagonal lines. The text \"LES TECHNOLOGIES\" is displayed prominently below the logo.',\n",
       "  'image_25': 'A schematic diagram of a 100% electric vehicle (BEV) showing a battery and electric motor configuration within a car outline.',\n",
       "  'image_26': 'A schematic diagram of a plug-in hybrid vehicle (PHEV) showing a combination of combustion engine, electric motor, and rechargeable battery within a car outline.',\n",
       "  'image_27': 'A schematic diagram of a full hybrid vehicle (HEV) showing a combustion engine and electric motor configuration within a car outline.',\n",
       "  'image_28': 'A schematic diagram of a mild hybrid vehicle (MHEV) showing a combustion engine with a small electric assist system within a car outline.',\n",
       "  'image_29': 'A schematic diagram of a hydrogen fuel cell vehicle (FCV) showing a fuel cell, hydrogen tanks, and electric motor configuration within a car outline.## 2.2 LES NOUVELLES PLATEFORMES',\n",
       "  'image_30': 'A diagram showing the underside of an electric vehicle platform labeled \"3 x Unibody\". The image displays the chassis with a large blue battery pack in the center, surrounded by other components of the electric drivetrain.',\n",
       "  'image_31': 'A smaller diagram showing a similar electric vehicle platform labeled \"1 x Body on Frame\". This image shows a chassis with a blue battery pack, but in a different configuration compared to the Unibody version.',\n",
       "  'image_32': \"An illustration of an electric car platform, likely the Peugeot E-3008, showing the battery pack (colored blue) integrated into the floor of the vehicle, with wheels and other drivetrain components visible. The image highlights the compact and efficient design of the electric vehicle platform.# 03 L'AUTONOMIE\",\n",
       "  'image_33': 'An interior view of a car dashboard and steering wheel, with hands on the wheel. The image is part of a section header titled \"L\\'AUTONOMIE\" (Autonomy), suggesting it\\'s related to electric vehicle range or autonomous driving features.',\n",
       "  'image_34': 'Icon of a thermometer, representing heating/air conditioning in a vehicle.',\n",
       "  'image_35': 'Icon of a steering wheel, representing driving style.',\n",
       "  'image_36': 'Icon of a speedometer or gauge, representing vehicle speed.',\n",
       "  'image_37': 'Icon of a hilly road, representing topography or road conditions.',\n",
       "  'image_38': 'Icon of a car tire or wheel, representing tire pressure.',\n",
       "  'image_39': 'Icon of upward arrows, representing the usage of auxiliary consumers in a vehicle.',\n",
       "  'image_40': 'Icon of a weight or kilogram symbol, representing the transported load in a vehicle.',\n",
       "  'image_41': 'An electric car, likely a Peugeot model, driving on a desert road with a statistic \"2/3 des automobilistes parcourent, en moyenne, moins de 50 km par jour\" overlaid on the image.',\n",
       "  'image_42': \"The image shows a diagram of an electric vehicle charging system. At the top, there's a close-up of a hand plugging in a charging cable to an electric vehicle. The main part of the image features a bright green electric hatchback car connected to a charging station. The diagram illustrates the six key components of the charging process: the electrical network (represented by a lightning bolt), the charging station, the charging cable connected to the car, the charging port on the car, the on-board charger (labeled OBC), and the battery (represented by a battery icon). Each component is labeled and connected with blue lines to show the flow of electricity from the grid to the car's battery.## 4.2 LES COMPOSANTS\",\n",
       "  'image_43': 'A diagram showing a single-phase electrical installation for a house. It includes a simple electrical meter and distribution lines connected to basic household appliances.',\n",
       "  'image_44': 'A diagram illustrating a three-phase electrical installation for a house. It shows a more complex electrical meter and multiple distribution lines connected to various household appliances and equipment, indicating higher power capacity.',\n",
       "  'image_45': 'An icon of a lightning bolt inside a circle, representing high power capacity for electrical installations.',\n",
       "  'image_46': 'An icon of a location pin, symbolizing long-distance power transmission.',\n",
       "  'image_47': \"An icon of a gear or cog, representing high-consumption equipment in electrical systems.# La borne de recharge\\n\\nLa borne de recharge est un équipement déterminant pour l'efficacité et l'expérience utilisateur dans l'usage des véhicules 100% électriques (BEV) et hybrides rechargeables (PHEV). Elle détermine la vitesse de recharge à travers différentes catégories : charge standard, charge accélérée et charge rapide/super rapide. Chacune de ces catégories est définie par la puissance électrique qu'elle peut fournir au véhicule.\",\n",
       "  'image_48': 'Icon of a standard electrical outlet with an exclamation mark, representing standard charge (mode 2/AC) for domestic socket 1.8 kW (not recommended).',\n",
       "  'image_49': \"Icon of a reinforced electrical outlet with an exclamation mark, representing standard charge (mode 2/AC) for reinforced socket 3.7 kW (Green'Up type).\",\n",
       "  'image_50': 'Icon of a charging station with multiple connectors and a green checkmark, representing accelerated charge (mode 3/AC) for charging station 7.4 to 22 kW (Wallbox type).',\n",
       "  'image_51': 'Icon of a fast charging station with multiple connectors, representing rapid/super rapid charge (mode 4/DC) for fast charging stations up to 300 kW.',\n",
       "  'image_52': 'Green Peugeot E-208 electric car.',\n",
       "  'image_53': 'Gray Peugeot E-2008 electric SUV.',\n",
       "  'image_54': 'Green Peugeot E-308 electric car.',\n",
       "  'image_55': 'Blue Peugeot E-308 SW electric station wagon.',\n",
       "  'image_56': 'Teal Peugeot E-3008 electric SUV.# Le câble\\n\\nLe choix du câble de recharge adéquat est influencé par divers facteurs, dont la compatibilité avec le type de prise du véhicule, le type de motorisation ainsi que les besoins spécifiques du client.',\n",
       "  'image_57': 'An icon of a circular connector with multiple pins, representing a charging port or socket for electric vehicles.',\n",
       "  'image_58': \"An icon of a car engine, symbolizing the vehicle's motorization or powertrain.\",\n",
       "  'image_59': 'An icon of a human figure with an open hand below, suggesting customer needs or service.',\n",
       "  'image_60': 'An icon of a shield with a checkmark inside, representing safety standards or security norms.',\n",
       "  'image_61': 'A coiled red and black charging cable with connectors at both ends, labeled as \"Câble 22 kW triphasé - mode 3 de série\".',\n",
       "  'image_62': 'An orange coiled charging cable with black connectors, labeled as \"Câble 3,7 kW monophasé - mode 2 en option : 539 € TTC\".',\n",
       "  'image_63': 'Another orange coiled charging cable similar to the previous one, labeled as \"Câble 2,3 kW monophasé - mode 2 de série\".',\n",
       "  'image_64': 'A black coiled charging cable with connectors, labeled as \"Câble 7,4 kW monophasé - mode 3 en option : 269 € TTC\".',\n",
       "  'image_65': 'A red and black charging cable similar to the first one, labeled as \"Câble 22 kW triphasé - mode 3 en option : 339 € TTC\".# Le port de charge\\n\\nLe port de charge sur un véhicule électrique est l\\'interface physique par laquelle l\\'énergie électrique est transférée de la source d\\'énergie externe à la batterie du véhicule. C\\'est l\\'endroit où vous branchez le câble de recharge.',\n",
       "  'image_66': 'Close-up of an electric vehicle charging port, showing the CCS Type 2 connector. The image is labeled with \"PARTIE HAUTE DU CONNECTEUR\" (Upper part of the connector) for recharge modes 2 & 3, \"PARTIE BASSE DU CONNECTEUR\" (Lower part of the connector) for recharge mode 4, and \"VOYANT DE RECHARGE\" (Charging indicator light).\\n\\nLa trappe dispose d\\'un joint d\\'étanchéité pour protéger les connecteurs contre la poussière et l\\'humidité, éliminant le besoin d\\'un bouchon pour les modes de charge 2 et 3.\\n\\nPar sécurité et en raison de son utilisation moins fréquente, le connecteur utilisé pour la charge rapide/super rapide (mode 4) est protégé par un obturateur.',\n",
       "  'image_67': \"A set of five icons representing different charging status indicators. Each icon shows a stylized charging port symbol with a lock icon and different colored backgrounds or outlines: white, blue, flashing green, solid green, and red, corresponding to the states described in the table above.# Le chargeur embarqué\\n\\nLe chargeur embarqué (On-Board Charger, OBC) joue un rôle crucial dans l'écosystème des véhicules électrifiés. On ne peut stocker dans une batterie que du courant continu. Or, le courant fourni par le réseau domestique est du courant alternatif. Il faut donc transformer ce courant pour pouvoir le stocker (charge standard ou accélérée). C'est le rôle du chargeur embarqué.\",\n",
       "  'image_68': 'Illustration showing the charging process for electric vehicles. It depicts three stages: 1) A standard or accelerated charging station (AC) with wavy lines representing alternating current. 2) The on-board charger inside the car, labeled as converting the current. 3) The battery receiving direct current (DC).\\n\\nLa charge rapide/super rapide fonctionne quant à elle en courant continu et ne fait donc pas appel au chargeur embarqué.',\n",
       "  'image_69': \"Diagram illustrating rapid/super-rapid charging for electric vehicles. It shows a DC charging station directly connected to the car's battery, bypassing the on-board charger. The current flows straight into the battery without conversion inside the vehicle.\\n\\nSur une borne type Wallbox de 11 kW, un chargeur embarqué de 7,4 kW ne peut recevoir qu'un courant de 3,7 kW. Pourquoi ? Parce que la borne en question délivre du courant triphasé (en l'occurrence 3 x 3,7 kW), alors que le chargeur de 7,4 kW n'accepte dans tous les cas que du courant monophasé. Il est donc logique que la recharge soit plus rapide sur une borne de 7,4 kW qui, elle, donne toute la puissance indiquée avec du courant monophasé.\",\n",
       "  'image_70': 'Diagram comparing a 11kW Wallbox charging station to a 7.4kW on-board charger in an electric vehicle. It illustrates the mismatch between the three-phase power supply (3 x 3.7 kW) and the single-phase capability of the on-board charger, explaining why only 3.7 kW is effectively used.',\n",
       "  'image_71': \"Schéma d'une batterie lithium-ion montrant la cathode, l'anode, le séparateur poreux et l'électrolyte. La cathode est représentée par des points bleus denses, tandis que l'anode montre une structure hexagonale plus ouverte.\",\n",
       "  'image_72': \"Capture d'écran d'une application de navigation montrant une carte avec un itinéraire et des informations sur les points de recharge pour véhicules électriques.\",\n",
       "  'image_73': 'A bright green Peugeot E-208 electric hatchback car.',\n",
       "  'image_74': 'Another bright green Peugeot E-208 electric hatchback car, slightly different model or trim.',\n",
       "  'image_75': 'A gray Peugeot E-2008 electric SUV.',\n",
       "  'image_76': 'A blue Peugeot 408 PHEV (Plug-in Hybrid Electric Vehicle) car.',\n",
       "  'image_77': 'A white Peugeot E-308 or E-308 SW electric station wagon.',\n",
       "  'image_78': 'A dark green Peugeot 308 or 308 SW PHEV (Plug-in Hybrid Electric Vehicle) station wagon.',\n",
       "  'image_79': 'A blue Peugeot E-3008 electric SUV.',\n",
       "  'image_80': 'A gray Peugeot 508 or 508 SW or PSE model car.',\n",
       "  'image_81': 'A green Peugeot E-Rifter electric MPV (Multi-Purpose Vehicle).',\n",
       "  'image_82': 'A gray Peugeot E-Expert or Traveller electric van or minibus.',\n",
       "  'image_83': \"Another gray Peugeot E-Expert or Traveller electric van or minibus, possibly a different model or trim level.# 4.3 LA CONCORDANCE DES COMPOSANTS\\n\\nPour une expérience optimale de recharge des véhicules électrifiés, tous les éléments de l'écosystème électrique doivent fonctionner en concordance. Cette harmonisation assure une recharge efficace, rapide et sûre tout en optimisant la longévité de la batterie.\",\n",
       "  'image_84': \"A diagram showing four different charging configurations for electric vehicles. Each configuration is represented by icons for the charging station, cable, onboard charger, and battery. The power levels and charging times are indicated for each setup.# L'ÉLECTRIQUE POUR TOUS\",\n",
       "  'image_85': 'An infographic showing different electric vehicle charging configurations. Each row represents a different charging setup with icons for the charging station, cable, onboard charger, battery, and charging time. The power levels range from 22 kW to 350 kW.## 4.4 LA CHARGE PRIVÉE\\n\\nÀ noter que 90% des clients électriques rechargent à domicile ou au travail.',\n",
       "  'image_86': 'An image of the eProWallbox Move charging station. It has a black, rounded square shape with a blue light strip and a charging cable port.',\n",
       "  'image_87': 'An image of the eProWallbox Full charging station. It has a similar design to the Move model but with an additional screen display.',\n",
       "  'image_88': 'A circular icon with a clock symbol inside, representing \"Charge\" or reduced charging time.',\n",
       "  'image_89': 'A circular icon with a lock symbol inside, representing \"Sécurité\" or enhanced security.',\n",
       "  'image_90': 'A circular icon with a calendar or scheduling symbol inside, representing \"Efficience\" or efficient charging management.',\n",
       "  'image_91': 'A circular icon with an open hand symbol inside, representing \"Aide\" or assistance, likely referring to tax credit eligibility.L\\'ÉLECTRIQUE POUR TOUS LA RECHARGE\\n\\nSécurisées\\nGrâce à la technologie d\\'identification par radiofréquence (RFID), eProWallbox peut être configurée pour autoriser uniquement les utilisateurs enregistrés à démarrer une session de recharge.\\n\\nConnectées\\nUne large gamme de connectivité via WiFi, 4G ou Bluetooth avec des mises à jour automatiques via une gestion à distance par Free2Move eSolutions.\\n\\nFlexibles\\nLa famille eProWallbox comprend plusieurs configurations avec l\\'ensemble des fonctionnalités répondant aux besoins des clients en termes de recharge.\\n\\nIntelligentes\\nLe Dynamic Power Management (DPM) permet une limitation de la puissance en fonction des autres consommateurs domestiques en vue d\\'éviter toute coupure.\\n\\nUtilisation possible à l\\'extérieur\\nAdaptée pour une utilisation à l\\'intérieur comme à l\\'extérieur, eProWallbox garantit des charges sécurisées dans une plage étendue de températures.',\n",
       "  'image_92': \"An electric vehicle charging station mounted on a wooden fence or wall. The charging unit is white and sleek in design, with a cable attached for connecting to electric vehicles.# Le partenaire : IZI by EDF\\n\\nEn choisissant IZI by EDF pour l'installation de leur borne de recharge, les clients bénéficient d'un accompagnement personnalisé par un expert dédié. L'installation sera réalisée par un électricien certifié en IRVE du réseau IZI by EDF, avec un contrôle systématique pour garantir la fiabilité. IZI by EDF, reconnu en France comme une référence pour l'installation de bornes de recharge, offre ainsi aux clients la certitude d'un service de qualité supérieure.\\n\\n| QUALIFICATION DU BESOIN | PRÉVISITE TECHNIQUE | INSTALLATION |\\n|-------------------------|----------------------|---------------|\\n| Jour 1 | J+8 | J+5 | J+28 à 42 |\\n| Formulaire de recontact dédié | Contact téléphonique | Qualification du besoin et devis estimatif | Le client choisit la date de prévisite | Prévisite technique | Réalisation du devis final | Le client valide le devis final et choisit une date d'intervention | Installation et mise en service |\",\n",
       "  'image_93': 'The IZI by EDF logo, consisting of the word \"izi\" in orange lowercase letters, with \"by EDF\" in blue underneath.',\n",
       "  'image_94': 'A flowchart showing the steps of the charging station installation process, from initial contact to final installation. Icons represent each step, such as a document for the contact form, a phone for telephone contact, and tools for the installation.',\n",
       "  'image_95': 'Three circular icons representing different charging point options in co-owned properties. The first shows a single figure, representing individual charging points. The second shows a lightning bolt with multiple figures, representing shared charging points. The third shows three figures, representing collective infrastructure.# 4.5 LA CHARGE PUBLIQUE\\n\\neSolutions offre une solution de recharge flexible pour votre véhicule électrique, que vous ayez besoin de recharger hors domicile occasionnellement ou régulièrement.',\n",
       "  'image_96': 'An image of a RFID charging card for electric vehicles. The card is green and white with a colorful cityscape design. It has a QR code and appears to be associated with the eSolutions charging network.# 05 LA GAMME',\n",
       "  'image_97': '\"Three Peugeot cars displayed side by side. From left to right: a green hatchback (likely the E-208), a grey SUV (possibly the 3008), and a blue SUV or crossover (could be the 2008 or 5008). The image showcases Peugeot\\'s range of vehicles.\"}\\n\\n{image_98: \"Two Peugeot E-208 electric cars. The left one is a lime green color shown from the side, while the right one is a brighter green shown from the front. The right image includes a person standing next to the car. There\\'s a circular emblem in the center mentioning \\'assemblage à SARAGOSSE\\' (assembled in Saragossa, Spain).\"}## 5.2 LES SUV\\n\\nE-2008',\n",
       "  'image_99': 'A gray Peugeot E-2008 SUV with a \"NEW\" label, shown from a front three-quarter view.',\n",
       "  'image_100': 'A larger image showing a purple Peugeot SUV (likely the E-2008) in a stylized setting with a desert background and a purple-lit structure. Two people are walking near the vehicle. The image has a circular overlay with text \"assemblage à VIGO\" and a Spanish flag icon.\\n\\n| MOTEUR | ÉLECTRIQUE 136 CH | ÉLECTRIQUE 156 CH | MOTEUR HYBRID 136 CH |\\n|--------|---------------------|---------------------|------------------------|\\n| Émissions de CO₂ (g) | 0 | 0 | 113 |\\n\\n| CHARGEUR EMBARQUÉ |  |  |  |\\n|---------------------|---------------------|---------------------|------------------------|\\n| De série | 7,4 kW | 7,4 kW |  |\\n| En option | 11 kW | 11 kW |  |\\n\\n| BATTERIE |  |  |  |\\n|-----------|---------------------|---------------------|------------------------|\\n| Technologie | Lithium-ion | Lithium-ion | Lithium-ion |\\n| Nombre de modules | 18 | 17 |  |\\n| Nombre de cellules |  |  | 12 |\\n| Capacité utile (kWh) | 46,3 | 48,1 | 0,432 / 0,890 |\\n| Masse (kg) | 345 | 340 |  |\\n| Tension totale (V) | 400 | 400 | 48 |\\n\\n| AUTONOMIE |  |  |  |\\n|------------|---------------------|---------------------|------------------------|\\n| en cycle WLTP mixte (km) | 340 | 406 |  |\\n| en cycle WLTP urbain (km) | 470 | 576 |  |\\n\\n| CONSOMMATION |  |  |  |\\n|----------------|---------------------|---------------------|------------------------|\\n| cycle WLTP mixte (kWh/100 km) | 15,9 | 15,2 |  |\\n| cycle WLTP urbain (kWh/100 km) | 10,9 | 10,7 |  |\\n\\n| RECHARGE (À 20°C, DE 20% À 80%) |  |  |  |\\n|-----------------------------------|---------------------|---------------------|------------------------|\\n| Capacité maximum AC (kW) | 11 | 11 |  |\\n| Capacité maximum DC (kW) | 100 | 100 |  |\\n| en 3,7 kW prise renforcée type Green\\'Up | 9 h 04 | 11 h 10 |  |\\n| en 7,4 kW borne de recharge AC | 4 h 31 | 4 h 40 |  |\\n| en 11 kW borne de recharge AC | 9 h 10 / 3 h 02 | 9 h 35 / 3 h 10 |  |\\n| en 100 kW station de recharge rapide DC | 30 min | 30 min |  |\\n| MOTEUR                                   | ÉLECTRIQUE 210 CH | MOTEUR HYBRID 136 |\\n|------------------------------------------|--------------------|--------------------|\\n| Émissions de CO₂ (g)                     | 0                  | 127                |\\n| CHARGEUR EMBARQUÉ                        |                    |                    |\\n| De série                                 | 7,4 kW             |                    |\\n| En option                                | 11 kW              |                    |\\n| BATTERIE                                 |                    |                    |\\n| Technologie                              | Lithium-Ion NMC    | Lithium-Ion        |\\n| Nombre de modules                        | 12                 |                    |\\n| Nombre de cellules                       |                    | -                  |\\n| Capacité utile (kWh)                     | 73                 | 0,43 / 0,89        |\\n| Masse (kg)                               | 520                |                    |\\n| Tension totale (V)                       | 400                | 48                 |\\n| AUTONOMIE                                |                    |                    |\\n| en cycle WLTP mixte (km)                 | 510-527            |                    |\\n| en cycle WLTP urbain (km)                | 628-656*           |                    |\\n| CONSOMMATION                             |                    |                    |\\n| cycle WLTP mixte (kWh/100 km)            | 16,7-17,4          |                    |\\n| cycle WLTP urbain (kWh/100 km)           | 13,4-14,1          |                    |\\n| RECHARGE (À 20 °C, DE 20% À 80%)         |                    |                    |\\n| Capacité maximum AC (kW)                 | 22                 |                    |\\n| Capacité maximum DC (kW)                 | 160                |                    |\\n| en 3,7 kW prise renforcée type Green\\'Up  | 23 h 15            |                    |\\n| en 7,4 kW borne de recharge AC           | 7 h                |                    |\\n| en 11 kW borne de recharge AC            | 4 h 50             |                    |\\n| en 160 kW station de recharge rapide DC  | 30 min             |                    |',\n",
       "  'image_101': 'A blue Peugeot 408 car model shown from the front left side view, with a \"NEW\" label next to it.',\n",
       "  'image_102': 'A larger image showing two blue Peugeot 408 cars in a desert-like setting with blue sky. A person in a bright yellow outfit is standing next to one of the cars. There\\'s a circular emblem with \"assemblage à MULHOUSE\" and a French flag, indicating the car is assembled in Mulhouse, France.',\n",
       "  'image_103': 'A green Peugeot E-308 berline (sedan) electric car model shown from a side angle.',\n",
       "  'image_104': 'A side view of a gray Peugeot 508 sedan, labeled as \"508\" with a \"NEW\" tag.',\n",
       "  'image_105': 'A side view of a gray Peugeot 508 SW (station wagon), labeled as \"508 SW\" with a \"NEW\" tag.',\n",
       "  'image_106': 'A circular emblem with the text \"assemblage à MULHOUSE\" and a French flag, indicating assembly in Mulhouse, France.# 5.4 LES SPORT ENGINEERED\\n\\n| 508 PSE | 508 PSE SW |\\n|---------|-------------|\\n| ![NEW](image_107) | ![NEW](image_108) |\\n\\nassemblage à\\nMULHOUSE\\n🇫🇷\\n\\n| MOTEUR | PLUG-IN HYBRID4 360 E-EAT8 |\\n|--------|----------------------------|\\n| Émissions de CO₂ (g) | 40 |\\n| CHARGEUR EMBARQUÉ | |\\n| De série | 3,7 kW |\\n| En option | 7,4 kW |\\n| BATTERIE | |\\n| Technologie | Lithium-Ion |\\n| Nombre de modules | |\\n| Nombre de cellules | |\\n| Capacité utile (kWh) | |\\n| Masse (kg) | |\\n| Tension totale (V) | |\\n| AUTONOMIE | |\\n| en cycle WLTP mixte (km) | 52 |\\n| en cycle WLTP urbain (km) | 54 |\\n| CONSOMMATION | |\\n| cycle WLTP mixte (kWh/100 km) | |\\n| cycle WLTP urbain (kWh/100 km) | |\\n| RECHARGE (À 20 °C, DE 20% À 80%) | |\\n| Capacité maximum AC (kW) | |\\n| Capacité maximum DC (kW) | |\\n| en 1,8 kW prise domestique | 7 h 05 |\\n| en 3,7 kW prise renforcée type Green\\'Up | 3 h 25 |\\n| en 7,4 kW borne de recharge AC | 1 h 40 |\\n| en 11 kW borne de recharge AC | |\\n| en 100 kW station de recharge rapide DC | |',\n",
       "  'image_109': 'A white Peugeot 508 PSE sedan with sporty styling, featuring a sleek profile and large alloy wheels.',\n",
       "  'image_110': 'A white Peugeot 508 PSE SW station wagon with sporty styling, featuring a sleek profile and large alloy wheels, similar to the sedan but with an extended roof line.# 5.5 LES FAMILIALES',\n",
       "  'image_111': 'A green Peugeot E-Rifter electric van parked in front of a modern building. The image includes a circular badge indicating assembly in Vigo, Spain.',\n",
       "  'image_112': 'A blue Peugeot E-Traveller electric van parked in an urban setting with warm lighting. The image includes a circular badge indicating assembly in Hordain, France.',\n",
       "  'image_113': 'A silver Peugeot E-Expert electric van parked in an industrial or warehouse setting with blue lighting. The image includes a circular badge indicating assembly in Hordain, France.',\n",
       "  'image_114': 'A light blue Peugeot E-Partner electric van parked in an industrial or warehouse setting with blue lighting. The image includes a circular badge indicating assembly in Vigo, Spain.',\n",
       "  'image_115': 'A white Peugeot E-Boxer electric van parked in an industrial or warehouse setting with blue lighting. The van is being charged. The image includes a circular badge indicating assembly in Atessa, Italy and Gliwice, Poland.# 06 LES SERVICES DE MOBILITÉ',\n",
       "  'image_116': 'A smartphone displaying the MYPEUGEOT app interface, showing a battery charge level of 40% and other vehicle information.',\n",
       "  'image_117': 'The MYPEUGEOT app logo, which is a stylized lion head in black on a dark background.',\n",
       "  'image_118': 'The E-ROUTES app logo, which is a stylized \"e\" in white on a dark blue background.',\n",
       "  'image_119': 'The eSOLUTIONS CHARGING app logo, which is a stylized electric plug icon in white on a green background.',\n",
       "  'image_120': 'Google Play Store and Apple App Store logos, indicating the availability of the apps on both platforms.',\n",
       "  'image_121': \"A partial view of a person holding a smartphone, demonstrating the use of a mobile app, likely related to vehicle services.# Navigation connectée\\n\\n- Localiser des bornes de recharge : le localisateur de bornes de recharge est une fonctionnalité qui permet au client de visualiser la borne de recharge publique à la fois sur l'application mobile et sur l'écran principal du véhicule. Il est ainsi possible de vérifier le Point d'intérêt (POI) de la station de charge où sont affichés la disponibilité, les connecteurs électriques, les prix, les niveaux de puissance, les adresses et la distance.\\n\\n- Trip planner pour les véhicules avec la navigation connectée : la fonction montre directement sur l'application la meilleure façon d'atteindre n'importe quelle destination prédéterminée, en tenant compte de l'autonomie de la batterie. Elle ajoute automatiquement les arrêts de charge nécessaires pour atteindre la destination prévue. Elle intègre le temps de charge et la compatibilité des véhicules aux stations de recharge pour garantir le meilleur itinéraire. L'itinéraire peut ensuite être envoyé au véhicule (Send2Nav).\",\n",
       "  'image_122': 'A smartphone displaying a navigation app with a map and charging station information. The app interface shows options for finding charging stations and planning routes.',\n",
       "  'image_123': 'Two smartphone screens side by side showing the e-ROUTES application. The screens display a map with a planned route highlighted in blue, along with information about charging stops and estimated arrival time.',\n",
       "  'image_124': \"A collage of smartphone screens showing various features of the eSOLUTIONS CHARGING app. The screens display a charging history, a map with charging locations, options to configure a wallbox, and filters for selecting charging stations.# 07 LE COÛT À L'USAGE\",\n",
       "  'image_125': \"A sleek, modern SUV (likely a Peugeot model) is shown in a stylized setting with purple and blue lighting. The car appears to be silver or gray in color and is positioned in front of a geometric structure, possibly representing a futuristic garage or showroom.# L'ÉLECTRIQUE POUR TOUS\",\n",
       "  'image_126': \"A horizontal timeline showing 5 numbered steps for determining the cost of vehicle registration. The steps are: 1. Taxe fixe, 2. Taxe formation professionnelle, 3. Taxe régionale, 4. Taxe sur les voitures polluantes, 5. Redevance d'acheminement.\\n```\\n\\nAu moment de l'immatriculation, vous pouvez profiter de plusieurs exonérations sur le prix de votre carte grise pour un véhicule « propre » ou « dit propre ». Ainsi, votre certificat d'immatriculation pour un véhicule 100 % électrique neuf ou d'occasion vous coûtera :\\n\\n| Taxe fixe | Redevance d'acheminement |\\n|-----------|--------------------------|\\n| 11 €      | 2,76 €                   |\\n\\n= 13,76 €# 7.3 LA FISCALITÉ 2024\",\n",
       "  'image_127': \"A circular progress bar showing 60 points out of 80, indicating the environmental score that must be exceeded. The image also shows three numbered points: 1) une personne physique peut en bénéficier 1 fois tous les 3 ans, 2) sous réserve de garder le véhicule au moins 1 an, 3) et d'avoir parcouru au moins 6 000 km.\",\n",
       "  'image_128': 'A bright green Peugeot E-208 electric hatchback car.',\n",
       "  'image_129': 'A gray Peugeot E-2008 electric SUV.',\n",
       "  'image_130': 'A dark green Peugeot E-308 electric car.',\n",
       "  'image_131': 'A blue Peugeot E-3008 electric SUV.',\n",
       "  'image_132': 'A green Peugeot E-RIFTER electric MPV (Multi-Purpose Vehicle).',\n",
       "  'image_133': 'A dark gray Peugeot E-TRAVELLER electric van.',\n",
       "  'image_134': 'A light gray Peugeot E-EXPERT electric commercial van.# La prime à la conversion',\n",
       "  'image_135': \"A diagram showing the conditions for obtaining the conversion bonus. It displays a timeline with 4 numbered points, each representing a criterion for the vehicle to be destroyed: 1) Diesel or other energy type with specific registration dates, 2) Owned for at least a year, 3) Registered in France, 4) Not pledged or damaged.# Majoration de la prime à la conversion\\n\\nDans certains cas, la prime à la conversion peut être majorée de :\\n- 1 000 € dans les Zones à Faibles Émissions (ZFE),\\n- jusqu'à 3 000 € si une collectivité locale octroie une aide de même nature en ZFE.\",\n",
       "  'image_138': 'A green circular logo with a car icon and \"Crit\\'Air\" text, indicating the cleanest emission category.',\n",
       "  'image_139': 'A purple circular logo with a car icon and \"Crit\\'Air 1\" text, indicating a low emission category.# Amortissements non déductibles\\n\\nLes véhicules acquis par les entreprises font partie intégrante des « immobilisations » au bilan, c\\'est-à-dire des éléments actifs immobilisés, destinés à servir de manière durable à l\\'activité de l\\'entreprise.\\n\\nLe prix d\\'achat immobilisé s\\'entend :\\n\\n| TTC | HT |\\n|:---:|:---:|\\n| pour les véhicules particuliers (VP) | pour les véhicules utilitaires (VU) |\\n\\nParce qu\\'ils subissent une dépréciation d\\'usure, les véhicules constituent des immobilisations donnant lieu à la déduction d\\'un amortissement.\\n\\nLes véhicules de tourisme (destinés au transport de personnes, essentiellement les VP) sont amortissables dans la limite des montants définis ci-dessous :\\n\\n| 30 000 € | 20 300 € | 18 300 € | 9 900 € |\\n|:--------:|:--------:|:--------:|:-------:|\\n| pour les véhicules 100% électriques | pour les véhicules hybrides émettant moins de 50 g de CO₂/km WLTP | pour les véhicules thermiques émettant entre 50 g et 160 g de CO₂/km WLTP | pour les véhicules thermiques émettant plus de 160 g de CO₂/km WLTP |\\n\\nPar ailleurs, ce plafonnement ne s\\'applique pas aux VU et aux VP dès lors que le véhicule est strictement nécessaire à l\\'exercice de l\\'activité de l\\'entreprise. C\\'est le cas, par exemple, des taxis, des auto-écoles ou des entreprises de location de véhicules.',\n",
       "  'image_140': 'A simple icon of a car, representing personal vehicles (VP)',\n",
       "  'image_141': 'A simple icon of a van or utility vehicle, representing commercial vehicles (VU)',\n",
       "  'image_142': 'A lightning bolt icon, representing 100% electric vehicles',\n",
       "  'image_143': 'An electrical plug icon, representing hybrid vehicles',\n",
       "  'image_144': 'A fuel pump icon, representing thermal vehicles emitting between 50g and 160g of CO2/km',\n",
       "  'image_145': 'Another fuel pump icon, representing thermal vehicles emitting more than 160g of CO2/km# PEUGEOT ALLURE CARE',\n",
       "  'image_146': 'A panoramic image showing five Peugeot electric vehicles lined up in a desert-like setting with a blue sky background. The vehicles appear to be different models in the Peugeot electric range.',\n",
       "  'image_147': 'A logo for \"PEUGEOT ALLURE CARE\" with the text \"JUSQU\\'À 8 ANS\" (Up to 8 years) inside a blue rectangular box.',\n",
       "  'image_148': \"Five Peugeot electric vehicle models shown side by side: E-208 (lime green), E-2008 (grey), E-308 (dark green), E-308 SW (teal), and E-3008 (light blue). Each model is labeled underneath.ARGUMENTAIRE\\nTOUT SAVOIR SUR L'ÉLECTRIQUE\\na été achevé d'imprimer en\\navril 2024\\n\\npowered by logotel\",\n",
       "  'image_149': 'A simple logo consisting of the word \"logotel\" in lowercase letters. The logo is placed at the bottom of an otherwise blank page, which contains text indicating it\\'s the final page of a document about electric vehicles printed in April 2024.',\n",
       "  'image_150': 'The Peugeot logo, featuring a black shield with a stylized white lion\\'s head and the word \"PEUGEOT\" at the top.\\n\\nL\\'ELECTRIQUE POUR TOUS'})"
      ]
     },
     "execution_count": 26,
     "metadata": {},
     "output_type": "execute_result"
    }
   ],
   "source": [
    "import re\n",
    "import json\n",
    "\n",
    "def replace_image_keys_and_save_to_json(md_file_path, json_output_path):\n",
    "    # Read the content of the markdown file\n",
    "    with open(md_file_path, 'r', encoding='utf-8') as file:\n",
    "        content = file.read()\n",
    "\n",
    "    # Initialize a global counter\n",
    "    global_counter = 1\n",
    "\n",
    "    # Function to replace image_ keys\n",
    "    def replace_key(match):\n",
    "        nonlocal global_counter\n",
    "        replacement = f\"image_{global_counter}\"\n",
    "        global_counter += 1\n",
    "        return replacement\n",
    "\n",
    "    # Replace all occurrences of image_ keys with incremental numbers\n",
    "    modified_content = re.sub(r'image_\\d*', replace_key, content)\n",
    "\n",
    "    # Extract the keys and their descriptions from the modified content\n",
    "    keys_and_descriptions = re.findall(r'(image_\\d+):\\s*(.*?)(?=\\nimage_\\d+:|\\n#|\\n##|\\Z)', modified_content, re.DOTALL)\n",
    "\n",
    "    # Create a dictionary from the keys and descriptions\n",
    "    keys_dict = {key: description.strip() for key, description in keys_and_descriptions}\n",
    "\n",
    "    # Write the modified content back to the markdown file\n",
    "    new_md_file_path = md_file_path.replace('.md', '_modified.md')\n",
    "    with open(new_md_file_path, 'w', encoding='utf-8') as file:\n",
    "        file.write(modified_content)\n",
    "\n",
    "    # Write the dictionary to a JSON file\n",
    "    with open(json_output_path, 'w', encoding='utf-8') as json_file:\n",
    "        json.dump(keys_dict, json_file, indent=4)\n",
    "\n",
    "    return new_md_file_path, json_output_path, keys_dict\n",
    "\n",
    "\n",
    "# Example usage\n",
    "md_file_path = '/Users/alina.ghani/VS_project/chatbot_dan/notebook/2_images_description_unique_key.md'\n",
    "json_output_path = '/Users/alina.ghani/VS_project/chatbot_dan/notebook/3_images_description.json'\n",
    "replace_image_keys_and_save_to_json(md_file_path, json_output_path)\n"
   ]
  },
  {
   "cell_type": "markdown",
   "metadata": {},
   "source": [
    "## Re aranger dans un json les keys de gpt_vision"
   ]
  },
  {
   "cell_type": "code",
   "execution_count": 32,
   "metadata": {},
   "outputs": [],
   "source": [
    "def reorder_image_keys(input_json_path, output_json_path):\n",
    "    # Load the JSON data from the file\n",
    "    with open(input_json_path, 'r', encoding='utf-8') as file:\n",
    "        data = json.load(file)\n",
    "\n",
    "    # Initialize the dictionary to store image descriptions\n",
    "    image_descriptions = {}\n",
    "\n",
    "    # Loop through each document in the data list\n",
    "    for document in data:\n",
    "        # Ensure the document is a dictionary and has 'metadata' and 'images'\n",
    "        if isinstance(document, dict):\n",
    "            images = document.get('metadata', {}).get('images', [])\n",
    "            for image in images:\n",
    "                # Extract the image name and description\n",
    "                image_path = image.get('image_path', '')\n",
    "                image_name = image_path.split('/')[-1].replace('.png', '')\n",
    "                image_description = image.get('image_description', '')\n",
    "                image_descriptions[image_name] = image_description\n",
    "\n",
    "    # Sort the dictionary by the numeric part of the keys\n",
    "    sorted_image_descriptions = dict(sorted(image_descriptions.items(), key=lambda item: int(re.findall(r'\\d+', item[0])[0])))\n",
    "\n",
    "    # Save the sorted image descriptions to the output JSON file\n",
    "    with open(output_json_path, 'w', encoding='utf-8') as outfile:\n",
    "        json.dump(sorted_image_descriptions, outfile, indent=4)\n",
    "\n",
    "# Define file paths\n",
    "input_json_path = '/Users/alina.ghani/VS_project/chatbot_dan/data/parsed_doc_GPT/parsed_result_with_descriptions.json'\n",
    "output_json_path = '/Users/alina.ghani/VS_project/chatbot_dan/data/parsed_doc_GPT/parsed_result_with_descriptions_order.json'\n",
    "\n",
    "# Run the function\n",
    "reorder_image_keys(input_json_path, output_json_path)\n",
    "\n",
    "\n"
   ]
  },
  {
   "cell_type": "code",
   "execution_count": null,
   "metadata": {},
   "outputs": [],
   "source": []
  }
 ],
 "metadata": {
  "kernelspec": {
   "display_name": "Python 3",
   "language": "python",
   "name": "python3"
  },
  "language_info": {
   "codemirror_mode": {
    "name": "ipython",
    "version": 3
   },
   "file_extension": ".py",
   "mimetype": "text/x-python",
   "name": "python",
   "nbconvert_exporter": "python",
   "pygments_lexer": "ipython3",
   "version": "3.12.4"
  }
 },
 "nbformat": 4,
 "nbformat_minor": 2
}
